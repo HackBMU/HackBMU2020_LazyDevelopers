{
 "cells": [
  {
   "cell_type": "code",
   "execution_count": 1,
   "metadata": {},
   "outputs": [],
   "source": [
    "from bs4 import BeautifulSoup\n",
    "import os"
   ]
  },
  {
   "cell_type": "code",
   "execution_count": 2,
   "metadata": {},
   "outputs": [],
   "source": [
    "import spacy\n",
    "nlp = spacy.load('en_core_web_sm')"
   ]
  },
  {
   "cell_type": "code",
   "execution_count": 3,
   "metadata": {},
   "outputs": [],
   "source": [
    "import logging\n",
    "logging.basicConfig(format='%(asctime)s : %(levelname)s : %(message)s', level=logging.INFO)"
   ]
  },
  {
   "cell_type": "code",
   "execution_count": 4,
   "metadata": {},
   "outputs": [],
   "source": [
    "def get_sentences(PATH):\n",
    "    '''For each paras.txt extract sentences for each paragraph using bs4.'''\n",
    "    \n",
    "    sent_file = open(os.path.join(PATH,'sentences.txt'),'w')\n",
    "    \n",
    "    with open(os.path.join(PATH,'paras.txt')) as fobj:\n",
    "        #read the file line-by-line\n",
    "        for line in fobj:\n",
    "            if line != '\\n' and line.strip().startswith('<p>'):\n",
    "                try:\n",
    "                    #extract tagless paragraph-text from <p> tags.\n",
    "                    soup = BeautifulSoup(line.strip(),\"lxml\")\n",
    "                    \n",
    "                    #divide this tagless paragraphs into proper sentences using NLP via spacy.\n",
    "                    doc = nlp(soup.p.text)\n",
    "                except:\n",
    "                    #If the line can't be parsed then log the line and continue to next line.\n",
    "                    logging.warning(PATH,\":\",line,\"can't be parsed.\")\n",
    "                    continue\n",
    "                    \n",
    "                #If parsed then write each sentence in the file 'sentences.txt'.\n",
    "                for each in doc.sents:\n",
    "                    text = each.text+'\\n'\n",
    "                    sent_file.write(each.text+'\\n')\n",
    "                    \n",
    "    sent_file.close()"
   ]
  },
  {
   "cell_type": "code",
   "execution_count": 5,
   "metadata": {},
   "outputs": [
    {
     "ename": "FileNotFoundError",
     "evalue": "[Errno 2] No such file or directory: '/Volumes/Seagate Expansion Drive/stackexchange'",
     "output_type": "error",
     "traceback": [
      "\u001b[0;31m---------------------------------------------------------------------------\u001b[0m",
      "\u001b[0;31mFileNotFoundError\u001b[0m                         Traceback (most recent call last)",
      "\u001b[0;32m<ipython-input-5-732a5eebbb31>\u001b[0m in \u001b[0;36m<module>\u001b[0;34m\u001b[0m\n\u001b[0;32m----> 1\u001b[0;31m \u001b[0mdirs\u001b[0m \u001b[0;34m=\u001b[0m \u001b[0mos\u001b[0m\u001b[0;34m.\u001b[0m\u001b[0mlistdir\u001b[0m\u001b[0;34m(\u001b[0m\u001b[0;34m'/Volumes/Seagate Expansion Drive/stackexchange'\u001b[0m\u001b[0;34m)\u001b[0m\u001b[0;34m\u001b[0m\u001b[0;34m\u001b[0m\u001b[0m\n\u001b[0m\u001b[1;32m      2\u001b[0m \u001b[0;31m#print len(dirs)\u001b[0m\u001b[0;34m\u001b[0m\u001b[0;34m\u001b[0m\u001b[0;34m\u001b[0m\u001b[0m\n\u001b[1;32m      3\u001b[0m \u001b[0;32mfor\u001b[0m \u001b[0meach\u001b[0m \u001b[0;32min\u001b[0m \u001b[0mdirs\u001b[0m\u001b[0;34m:\u001b[0m\u001b[0;34m\u001b[0m\u001b[0;34m\u001b[0m\u001b[0m\n\u001b[1;32m      4\u001b[0m     \u001b[0;32mif\u001b[0m \u001b[0meach\u001b[0m \u001b[0;34m==\u001b[0m \u001b[0;34m'.DS_Store'\u001b[0m\u001b[0;34m:\u001b[0m\u001b[0;34m\u001b[0m\u001b[0;34m\u001b[0m\u001b[0m\n\u001b[1;32m      5\u001b[0m         \u001b[0;32mcontinue\u001b[0m\u001b[0;34m\u001b[0m\u001b[0;34m\u001b[0m\u001b[0m\n",
      "\u001b[0;31mFileNotFoundError\u001b[0m: [Errno 2] No such file or directory: '/Volumes/Seagate Expansion Drive/stackexchange'"
     ]
    }
   ],
   "source": [
    "dirs = os.listdir('/Volumes/Seagate Expansion Drive/stackexchange')\n",
    "#print len(dirs)\n",
    "for each in dirs:\n",
    "    if each == '.DS_Store':\n",
    "        continue\n",
    "    PATH = os.path.join('/Volumes/Seagate Expansion Drive/stackexchange',each)\n",
    "    logging.info('Generating sentences for ' + each)\n",
    "    get_sentences(PATH)\n",
    "    logging.info('SUCCESS')"
   ]
  },
  {
   "cell_type": "code",
   "execution_count": null,
   "metadata": {},
   "outputs": [],
   "source": []
  }
 ],
 "metadata": {
  "anaconda-cloud": {},
  "kernelspec": {
   "display_name": "Python 3",
   "language": "python",
   "name": "python3"
  },
  "language_info": {
   "codemirror_mode": {
    "name": "ipython",
    "version": 3
   },
   "file_extension": ".py",
   "mimetype": "text/x-python",
   "name": "python",
   "nbconvert_exporter": "python",
   "pygments_lexer": "ipython3",
   "version": "3.6.7"
  }
 },
 "nbformat": 4,
 "nbformat_minor": 1
}
