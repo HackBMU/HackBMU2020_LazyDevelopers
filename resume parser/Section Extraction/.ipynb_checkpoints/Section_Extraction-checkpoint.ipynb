{
 "cells": [
  {
   "cell_type": "code",
   "execution_count": 16,
   "metadata": {},
   "outputs": [
    {
     "name": "stdout",
     "output_type": "stream",
     "text": [
      "(10000, 300)\n"
     ]
    }
   ],
   "source": [
    "import spacy\n",
    "from spacy.vectors import Vectors\n",
    "import os\n",
    "import pandas as pd\n",
    "import numpy as np\n",
    "nlp = spacy.load('en_core_web_sm')\n",
    "vectors = Vectors(shape=(10000, 300))\n",
    "nlp.vocab.vectors = vectors\n",
    "print(nlp.vocab.vectors.shape)\n",
    "import re\n",
    "re_c = re.compile(r'\\w+')\n",
    "import warnings\n",
    "warnings.filterwarnings('ignore')"
   ]
  },
  {
   "cell_type": "code",
   "execution_count": 2,
   "metadata": {},
   "outputs": [],
   "source": [
    "# switch for debug\n",
    "flag_print = True\n",
    "\n",
    "# switch to clear existing data\n",
    "flag_clear = True\n",
    "\n",
    "#threshold value for determining section\n",
    "threshold = 0.5"
   ]
  },
  {
   "cell_type": "code",
   "execution_count": 3,
   "metadata": {},
   "outputs": [
    {
     "name": "stdout",
     "output_type": "stream",
     "text": [
      "edu ['education', 'study', 'academics', 'institute', 'school', 'college']\n",
      "exp ['job', 'internship', 'training', 'research', 'career', 'profession', 'roleproject', 'responsibility', 'description', 'work', 'workshop', 'conference']\n",
      "skill ['skill', 'language', 'technology', 'framework', 'tool', 'database']\n",
      "extra ['introduction', 'intro', 'achievement', 'hobby', 'link', 'additional', 'personal', 'award', 'objective', 'miscellaneous', 'interest']\n"
     ]
    }
   ],
   "source": [
    "similar_to = {\n",
    "    'edu' : ['education', 'study', 'academics', 'institute', 'school', 'college'],\n",
    "    'exp' : ['job', 'internship', 'training', 'research', 'career', 'profession', 'role'\n",
    "             'project', 'responsibility', 'description', 'work experience', 'workshop', 'conference'],\n",
    "    'skill' : ['skill', 'languages', 'technology', 'framework', 'tools', 'database'],\n",
    "    'extra' : ['introduction', 'intro', 'achievement', 'hobby', 'links', 'additional', \n",
    "               'personal', 'award', 'objective', 'miscellaneous', 'interest']\n",
    "}\n",
    "\n",
    "list_of_sections = similar_to.keys()\n",
    "\n",
    "# to bring similar_words to their normal forms\n",
    "for section in list_of_sections:\n",
    "    new_list = []\n",
    "    \n",
    "    for word in similar_to[section]:\n",
    "        docx = nlp(word)\n",
    "        new_list.append(docx[0].lemma_)\n",
    "        \n",
    "    if flag_print:\n",
    "        print(section, new_list)\n",
    "        \n",
    "    similar_to[section] = new_list"
   ]
  },
  {
   "cell_type": "code",
   "execution_count": 4,
   "metadata": {},
   "outputs": [
    {
     "name": "stdout",
     "output_type": "stream",
     "text": [
      "Hello!! --returned--> hello\n",
      ".,<> --returned--> None\n",
      "India --returned--> india\n",
      "of --returned--> None\n",
      "..freedoM.. --returned--> freedom\n",
      "e-mail --returned--> email\n"
     ]
    }
   ],
   "source": [
    "def modify(word):\n",
    "    try:\n",
    "        symbols = '''~'`!@#$%^&*)(_+-=}{][|\\:;\",./<>?'''\n",
    "        mod_word = ''\n",
    "        \n",
    "        for char in word:\n",
    "            if (char not in symbols):\n",
    "                mod_word += char.lower()\n",
    "\n",
    "        docx = nlp(mod_word)\n",
    "\n",
    "        if (len(mod_word) == 0 or docx[0].is_stop):\n",
    "            return None\n",
    "        else:\n",
    "            return docx[0].lemma_\n",
    "    except:\n",
    "        return None # to handle the odd case of characters like 'x02', etc.\n",
    "    \n",
    "if flag_print:\n",
    "    test_words = ['Hello!!', '.,<>', 'India', 'of', '..freedoM..', 'e-mail']\n",
    "    \n",
    "    for word in test_words:\n",
    "        print(word, '--returned-->', modify(word))"
   ]
  },
  {
   "cell_type": "code",
   "execution_count": 7,
   "metadata": {},
   "outputs": [],
   "source": [
    "def is_empty(line):\n",
    "    for c in line:\n",
    "        if (c.isalpha()):\n",
    "            return False\n",
    "    return True\n",
    "      \n",
    "if flag_print:\n",
    "    test_words = ['.', '<.>', 'Speak', 'out', '\"Eric\"', 'freemail...']\n",
    "    \n"
   ]
  },
  {
   "cell_type": "code",
   "execution_count": null,
   "metadata": {},
   "outputs": [],
   "source": [
    "dict_of_data_series = {}\n",
    "flag_print = False\n",
    "path_cv = \"/home/ubuntu/Documents/python works/unicept/b/Resume_Filtering-develop/Data/CVs/\"\n",
    "for file_name in os.listdir(path_cv):\n",
    "    if flag_print:\n",
    "        print('\\n')\n",
    "        print('*'*25) \n",
    "        print(file_name) \n",
    "        print('*'*25) \n",
    "        \n",
    "    main_file_handler = open(path_cv+file_name, 'r', encoding='latin-1')  \n",
    "    previous_section  = 'extra'\n",
    "    \n",
    "    curr_data_series = pd.Series([\"\"]*len(list_of_sections), index=list_of_sections)\n",
    "                   \n",
    "    for line in main_file_handler:\n",
    "        # skip line if empty\n",
    "        if (len(line.strip()) == 0 or is_empty(line)):\n",
    "            continue\n",
    "                \n",
    "        # processing next line\n",
    "        list_of_words_in_line = re_c.findall(line)\n",
    "        list_of_imp_words_in_line  = []\n",
    "        \n",
    "        for i in range(len(list_of_words_in_line)):\n",
    "            modified_word = modify(list_of_words_in_line[i])\n",
    "            \n",
    "            if (modified_word):\n",
    "                list_of_imp_words_in_line.append(modified_word)\n",
    "\n",
    "        curr_line = ' '.join(list_of_imp_words_in_line)\n",
    "        doc = nlp(curr_line)\n",
    "        section_value = {}\n",
    "            \n",
    "       \n",
    "        for section in list_of_sections:\n",
    "            section_value[section] = 0.0\n",
    "        section_value[None] = 0.0\n",
    "            \n",
    "         \n",
    "        for token in doc:\n",
    "            for section in list_of_sections:\n",
    "                for word in similar_to[section]:\n",
    "                    word_token = doc.vocab[word]\n",
    "                    section_value[section] = max(section_value[section], float(word_token.similarity(token)))\n",
    "\n",
    "        \n",
    "        most_likely_section = None\n",
    "        for section in list_of_sections:\n",
    "            \n",
    "            if (section_value[most_likely_section] < section_value[section] and section_value[section] > threshold):\n",
    "                most_likely_section = section\n",
    "            \n",
    " \n",
    "        if (previous_section != most_likely_section and most_likely_section is not None):\n",
    "            previous_section = most_likely_section\n",
    "                \n",
    "\n",
    "       \n",
    "        try:\n",
    "            docx = nlp(line)\n",
    "        except:\n",
    "            continue  # to handle the odd case of characters like 'x02', etc.\n",
    "        mod_line = ''\n",
    "        for token in docx:\n",
    "            if (not token.is_stop):\n",
    "                mod_line += token.lemma_ + ' '\n",
    "        \n",
    "        curr_data_series[previous_section] += mod_line\n",
    "            \n",
    "    dict_of_data_series[file_name] = curr_data_series\n",
    "    if flag_print:\n",
    "        print(curr_data_series)\n",
    "    main_file_handler.close()\n",
    "     \n",
    "data_frame = pd.DataFrame(dict_of_data_series)\n",
    "data_frame.to_csv('prc_data.csv', sep='\\t')\n"
   ]
  },
  {
   "cell_type": "code",
   "execution_count": null,
   "metadata": {},
   "outputs": [],
   "source": [
    "data_frame.head()"
   ]
  },
  {
   "cell_type": "code",
   "execution_count": null,
   "metadata": {},
   "outputs": [],
   "source": []
  },
  {
   "cell_type": "code",
   "execution_count": null,
   "metadata": {
    "collapsed": true
   },
   "outputs": [],
   "source": []
  }
 ],
 "metadata": {
  "anaconda-cloud": {},
  "kernelspec": {
   "display_name": "Python 3",
   "language": "python",
   "name": "python3"
  },
  "language_info": {
   "codemirror_mode": {
    "name": "ipython",
    "version": 3
   },
   "file_extension": ".py",
   "mimetype": "text/x-python",
   "name": "python",
   "nbconvert_exporter": "python",
   "pygments_lexer": "ipython3",
   "version": "3.6.7"
  }
 },
 "nbformat": 4,
 "nbformat_minor": 1
}
